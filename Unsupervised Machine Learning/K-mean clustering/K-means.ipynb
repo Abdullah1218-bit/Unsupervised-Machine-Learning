{
 "cells": [
  {
   "cell_type": "markdown",
   "id": "a9f80f12",
   "metadata": {},
   "source": [
    "# ***Kmeans Works Only with Circular Data***"
   ]
  },
  {
   "cell_type": "code",
   "execution_count": 14,
   "id": "cc542db4",
   "metadata": {},
   "outputs": [],
   "source": [
    "import pandas as pd\n",
    "import numpy as np\n",
    "import seaborn as sns\n",
    "import warnings\n",
    "warnings.filterwarnings('ignore')\n",
    "import matplotlib.pyplot as plt\n",
    "from sklearn.datasets import make_blobs\n",
    "from sklearn.cluster import KMeans\n",
    "from sklearn.preprocessing import StandardScaler"
   ]
  },
  {
   "cell_type": "code",
   "execution_count": 2,
   "id": "57e80c51",
   "metadata": {},
   "outputs": [],
   "source": [
    "X,y_true=make_blobs(n_samples=500,centers=3,cluster_std=0.60,random_state=42)"
   ]
  },
  {
   "cell_type": "code",
   "execution_count": 5,
   "id": "adcdfa62",
   "metadata": {},
   "outputs": [],
   "source": [
    "df=pd.DataFrame(X,columns=['Feature_1','Feature_2'])"
   ]
  },
  {
   "cell_type": "code",
   "execution_count": 7,
   "id": "200837c3",
   "metadata": {},
   "outputs": [
    {
     "data": {
      "application/vnd.microsoft.datawrangler.viewer.v0+json": {
       "columns": [
        {
         "name": "index",
         "rawType": "int64",
         "type": "integer"
        },
        {
         "name": "Feature_1",
         "rawType": "float64",
         "type": "float"
        },
        {
         "name": "Feature_2",
         "rawType": "float64",
         "type": "float"
        }
       ],
       "ref": "106fbad7-8921-4a5f-b0f0-b58336830a8d",
       "rows": [
        [
         "0",
         "-6.190063195379865",
         "-7.302015448351479"
        ],
        [
         "1",
         "3.0217468504631584",
         "1.9405927640300447"
        ],
        [
         "2",
         "5.953760596158705",
         "1.4881907127276413"
        ],
        [
         "3",
         "-2.744462514932045",
         "8.13617715931905"
        ],
        [
         "4",
         "5.360607189526468",
         "1.7283244601278012"
        ],
        [
         "5",
         "5.138080326154649",
         "1.4595193883954116"
        ],
        [
         "6",
         "-5.343576468189993",
         "-6.9377455331107365"
        ],
        [
         "7",
         "4.802152931696004",
         "1.9430268182712498"
        ],
        [
         "8",
         "3.999306578598545",
         "1.887741992927956"
        ],
        [
         "9",
         "-7.254518337768677",
         "-6.864454963149447"
        ],
        [
         "10",
         "4.251935105682586",
         "1.324240881772095"
        ],
        [
         "11",
         "-1.8140402756483076",
         "8.521876737187295"
        ],
        [
         "12",
         "-1.2293775982589903",
         "7.843033448484821"
        ],
        [
         "13",
         "-2.16666331663685",
         "9.69562551230668"
        ],
        [
         "14",
         "4.8137437503659495",
         "3.218410163127995"
        ],
        [
         "15",
         "5.274933528337854",
         "0.9179259920868634"
        ],
        [
         "16",
         "-2.5524036960009506",
         "9.616405866933537"
        ],
        [
         "17",
         "-7.5532604040886495",
         "-6.650663745565517"
        ],
        [
         "18",
         "-6.830256797586015",
         "-6.240821368236736"
        ],
        [
         "19",
         "-3.172998607456367",
         "8.29656215374992"
        ],
        [
         "20",
         "3.8007382919366166",
         "2.3109512259550744"
        ],
        [
         "21",
         "-2.3838794660498968",
         "7.838484053870456"
        ],
        [
         "22",
         "4.985813014061561",
         "2.159919776666854"
        ],
        [
         "23",
         "-5.940312773610666",
         "-6.919559749919739"
        ],
        [
         "24",
         "-7.147487359881587",
         "-6.763655597536962"
        ],
        [
         "25",
         "4.87655012165508",
         "1.7205789954485742"
        ],
        [
         "26",
         "4.486892505775589",
         "2.875565477090345"
        ],
        [
         "27",
         "-6.4081470959607705",
         "-6.624835056204968"
        ],
        [
         "28",
         "-6.719397031629715",
         "-6.346331115901885"
        ],
        [
         "29",
         "-1.9367965649568288",
         "9.4051208789818"
        ],
        [
         "30",
         "4.620226874098503",
         "1.6471148212604731"
        ],
        [
         "31",
         "-2.0216821296162313",
         "9.828030145340815"
        ],
        [
         "32",
         "-3.103519418131163",
         "8.674507490436659"
        ],
        [
         "33",
         "-3.3061092523918085",
         "9.132402869719796"
        ],
        [
         "34",
         "4.862566360250887",
         "1.6107785719112397"
        ],
        [
         "35",
         "4.496510008108255",
         "1.4286314867157732"
        ],
        [
         "36",
         "4.146546598888243",
         "2.119382010835879"
        ],
        [
         "37",
         "3.676011044073558",
         "2.095247865461066"
        ],
        [
         "38",
         "-6.90930541694273",
         "-6.475217897975984"
        ],
        [
         "39",
         "-6.28903375206532",
         "-7.008502899811252"
        ],
        [
         "40",
         "4.046115944072953",
         "1.897697531880943"
        ],
        [
         "41",
         "-1.7259103387601527",
         "9.026888433177977"
        ],
        [
         "42",
         "-2.6410007557552575",
         "9.22855367110537"
        ],
        [
         "43",
         "-2.034578454826922",
         "8.468653655321479"
        ],
        [
         "44",
         "-1.2228311694575549",
         "9.394637541589129"
        ],
        [
         "45",
         "5.626859464328872",
         "1.823748060206905"
        ],
        [
         "46",
         "4.572482006413604",
         "1.8405879242207983"
        ],
        [
         "47",
         "5.0668477630814355",
         "1.2983844288380104"
        ],
        [
         "48",
         "4.212171366621803",
         "2.03702782055587"
        ],
        [
         "49",
         "-7.190193970572973",
         "-6.745836822292608"
        ]
       ],
       "shape": {
        "columns": 2,
        "rows": 500
       }
      },
      "text/html": [
       "<div>\n",
       "<style scoped>\n",
       "    .dataframe tbody tr th:only-of-type {\n",
       "        vertical-align: middle;\n",
       "    }\n",
       "\n",
       "    .dataframe tbody tr th {\n",
       "        vertical-align: top;\n",
       "    }\n",
       "\n",
       "    .dataframe thead th {\n",
       "        text-align: right;\n",
       "    }\n",
       "</style>\n",
       "<table border=\"1\" class=\"dataframe\">\n",
       "  <thead>\n",
       "    <tr style=\"text-align: right;\">\n",
       "      <th></th>\n",
       "      <th>Feature_1</th>\n",
       "      <th>Feature_2</th>\n",
       "    </tr>\n",
       "  </thead>\n",
       "  <tbody>\n",
       "    <tr>\n",
       "      <th>0</th>\n",
       "      <td>-6.190063</td>\n",
       "      <td>-7.302015</td>\n",
       "    </tr>\n",
       "    <tr>\n",
       "      <th>1</th>\n",
       "      <td>3.021747</td>\n",
       "      <td>1.940593</td>\n",
       "    </tr>\n",
       "    <tr>\n",
       "      <th>2</th>\n",
       "      <td>5.953761</td>\n",
       "      <td>1.488191</td>\n",
       "    </tr>\n",
       "    <tr>\n",
       "      <th>3</th>\n",
       "      <td>-2.744463</td>\n",
       "      <td>8.136177</td>\n",
       "    </tr>\n",
       "    <tr>\n",
       "      <th>4</th>\n",
       "      <td>5.360607</td>\n",
       "      <td>1.728324</td>\n",
       "    </tr>\n",
       "    <tr>\n",
       "      <th>...</th>\n",
       "      <td>...</td>\n",
       "      <td>...</td>\n",
       "    </tr>\n",
       "    <tr>\n",
       "      <th>495</th>\n",
       "      <td>-6.040014</td>\n",
       "      <td>-6.325329</td>\n",
       "    </tr>\n",
       "    <tr>\n",
       "      <th>496</th>\n",
       "      <td>-2.555459</td>\n",
       "      <td>9.218977</td>\n",
       "    </tr>\n",
       "    <tr>\n",
       "      <th>497</th>\n",
       "      <td>4.438408</td>\n",
       "      <td>2.974583</td>\n",
       "    </tr>\n",
       "    <tr>\n",
       "      <th>498</th>\n",
       "      <td>-7.193261</td>\n",
       "      <td>-6.250704</td>\n",
       "    </tr>\n",
       "    <tr>\n",
       "      <th>499</th>\n",
       "      <td>4.951487</td>\n",
       "      <td>2.892813</td>\n",
       "    </tr>\n",
       "  </tbody>\n",
       "</table>\n",
       "<p>500 rows × 2 columns</p>\n",
       "</div>"
      ],
      "text/plain": [
       "     Feature_1  Feature_2\n",
       "0    -6.190063  -7.302015\n",
       "1     3.021747   1.940593\n",
       "2     5.953761   1.488191\n",
       "3    -2.744463   8.136177\n",
       "4     5.360607   1.728324\n",
       "..         ...        ...\n",
       "495  -6.040014  -6.325329\n",
       "496  -2.555459   9.218977\n",
       "497   4.438408   2.974583\n",
       "498  -7.193261  -6.250704\n",
       "499   4.951487   2.892813\n",
       "\n",
       "[500 rows x 2 columns]"
      ]
     },
     "execution_count": 7,
     "metadata": {},
     "output_type": "execute_result"
    }
   ],
   "source": [
    "df"
   ]
  },
  {
   "cell_type": "code",
   "execution_count": 8,
   "id": "050884d8",
   "metadata": {},
   "outputs": [],
   "source": [
    "sc=StandardScaler()\n",
    "X_scaled=sc.fit_transform(df)"
   ]
  },
  {
   "cell_type": "code",
   "execution_count": 9,
   "id": "0a617705",
   "metadata": {},
   "outputs": [
    {
     "data": {
      "application/vnd.microsoft.datawrangler.viewer.v0+json": {
       "columns": [
        {
         "name": "index",
         "rawType": "int64",
         "type": "integer"
        },
        {
         "name": "Feature_1",
         "rawType": "float64",
         "type": "float"
        },
        {
         "name": "Feature_2",
         "rawType": "float64",
         "type": "float"
        }
       ],
       "ref": "72cd57ea-3514-4ffc-b194-da08b38c0250",
       "rows": [
        [
         "0",
         "-6.190063195379865",
         "-7.302015448351479"
        ],
        [
         "1",
         "3.0217468504631584",
         "1.9405927640300447"
        ],
        [
         "2",
         "5.953760596158705",
         "1.4881907127276413"
        ],
        [
         "3",
         "-2.744462514932045",
         "8.13617715931905"
        ],
        [
         "4",
         "5.360607189526468",
         "1.7283244601278012"
        ],
        [
         "5",
         "5.138080326154649",
         "1.4595193883954116"
        ],
        [
         "6",
         "-5.343576468189993",
         "-6.9377455331107365"
        ],
        [
         "7",
         "4.802152931696004",
         "1.9430268182712498"
        ],
        [
         "8",
         "3.999306578598545",
         "1.887741992927956"
        ],
        [
         "9",
         "-7.254518337768677",
         "-6.864454963149447"
        ],
        [
         "10",
         "4.251935105682586",
         "1.324240881772095"
        ],
        [
         "11",
         "-1.8140402756483076",
         "8.521876737187295"
        ],
        [
         "12",
         "-1.2293775982589903",
         "7.843033448484821"
        ],
        [
         "13",
         "-2.16666331663685",
         "9.69562551230668"
        ],
        [
         "14",
         "4.8137437503659495",
         "3.218410163127995"
        ],
        [
         "15",
         "5.274933528337854",
         "0.9179259920868634"
        ],
        [
         "16",
         "-2.5524036960009506",
         "9.616405866933537"
        ],
        [
         "17",
         "-7.5532604040886495",
         "-6.650663745565517"
        ],
        [
         "18",
         "-6.830256797586015",
         "-6.240821368236736"
        ],
        [
         "19",
         "-3.172998607456367",
         "8.29656215374992"
        ],
        [
         "20",
         "3.8007382919366166",
         "2.3109512259550744"
        ],
        [
         "21",
         "-2.3838794660498968",
         "7.838484053870456"
        ],
        [
         "22",
         "4.985813014061561",
         "2.159919776666854"
        ],
        [
         "23",
         "-5.940312773610666",
         "-6.919559749919739"
        ],
        [
         "24",
         "-7.147487359881587",
         "-6.763655597536962"
        ],
        [
         "25",
         "4.87655012165508",
         "1.7205789954485742"
        ],
        [
         "26",
         "4.486892505775589",
         "2.875565477090345"
        ],
        [
         "27",
         "-6.4081470959607705",
         "-6.624835056204968"
        ],
        [
         "28",
         "-6.719397031629715",
         "-6.346331115901885"
        ],
        [
         "29",
         "-1.9367965649568288",
         "9.4051208789818"
        ],
        [
         "30",
         "4.620226874098503",
         "1.6471148212604731"
        ],
        [
         "31",
         "-2.0216821296162313",
         "9.828030145340815"
        ],
        [
         "32",
         "-3.103519418131163",
         "8.674507490436659"
        ],
        [
         "33",
         "-3.3061092523918085",
         "9.132402869719796"
        ],
        [
         "34",
         "4.862566360250887",
         "1.6107785719112397"
        ],
        [
         "35",
         "4.496510008108255",
         "1.4286314867157732"
        ],
        [
         "36",
         "4.146546598888243",
         "2.119382010835879"
        ],
        [
         "37",
         "3.676011044073558",
         "2.095247865461066"
        ],
        [
         "38",
         "-6.90930541694273",
         "-6.475217897975984"
        ],
        [
         "39",
         "-6.28903375206532",
         "-7.008502899811252"
        ],
        [
         "40",
         "4.046115944072953",
         "1.897697531880943"
        ],
        [
         "41",
         "-1.7259103387601527",
         "9.026888433177977"
        ],
        [
         "42",
         "-2.6410007557552575",
         "9.22855367110537"
        ],
        [
         "43",
         "-2.034578454826922",
         "8.468653655321479"
        ],
        [
         "44",
         "-1.2228311694575549",
         "9.394637541589129"
        ],
        [
         "45",
         "5.626859464328872",
         "1.823748060206905"
        ],
        [
         "46",
         "4.572482006413604",
         "1.8405879242207983"
        ],
        [
         "47",
         "5.0668477630814355",
         "1.2983844288380104"
        ],
        [
         "48",
         "4.212171366621803",
         "2.03702782055587"
        ],
        [
         "49",
         "-7.190193970572973",
         "-6.745836822292608"
        ]
       ],
       "shape": {
        "columns": 2,
        "rows": 500
       }
      },
      "text/html": [
       "<div>\n",
       "<style scoped>\n",
       "    .dataframe tbody tr th:only-of-type {\n",
       "        vertical-align: middle;\n",
       "    }\n",
       "\n",
       "    .dataframe tbody tr th {\n",
       "        vertical-align: top;\n",
       "    }\n",
       "\n",
       "    .dataframe thead th {\n",
       "        text-align: right;\n",
       "    }\n",
       "</style>\n",
       "<table border=\"1\" class=\"dataframe\">\n",
       "  <thead>\n",
       "    <tr style=\"text-align: right;\">\n",
       "      <th></th>\n",
       "      <th>Feature_1</th>\n",
       "      <th>Feature_2</th>\n",
       "    </tr>\n",
       "  </thead>\n",
       "  <tbody>\n",
       "    <tr>\n",
       "      <th>0</th>\n",
       "      <td>-6.190063</td>\n",
       "      <td>-7.302015</td>\n",
       "    </tr>\n",
       "    <tr>\n",
       "      <th>1</th>\n",
       "      <td>3.021747</td>\n",
       "      <td>1.940593</td>\n",
       "    </tr>\n",
       "    <tr>\n",
       "      <th>2</th>\n",
       "      <td>5.953761</td>\n",
       "      <td>1.488191</td>\n",
       "    </tr>\n",
       "    <tr>\n",
       "      <th>3</th>\n",
       "      <td>-2.744463</td>\n",
       "      <td>8.136177</td>\n",
       "    </tr>\n",
       "    <tr>\n",
       "      <th>4</th>\n",
       "      <td>5.360607</td>\n",
       "      <td>1.728324</td>\n",
       "    </tr>\n",
       "    <tr>\n",
       "      <th>...</th>\n",
       "      <td>...</td>\n",
       "      <td>...</td>\n",
       "    </tr>\n",
       "    <tr>\n",
       "      <th>495</th>\n",
       "      <td>-6.040014</td>\n",
       "      <td>-6.325329</td>\n",
       "    </tr>\n",
       "    <tr>\n",
       "      <th>496</th>\n",
       "      <td>-2.555459</td>\n",
       "      <td>9.218977</td>\n",
       "    </tr>\n",
       "    <tr>\n",
       "      <th>497</th>\n",
       "      <td>4.438408</td>\n",
       "      <td>2.974583</td>\n",
       "    </tr>\n",
       "    <tr>\n",
       "      <th>498</th>\n",
       "      <td>-7.193261</td>\n",
       "      <td>-6.250704</td>\n",
       "    </tr>\n",
       "    <tr>\n",
       "      <th>499</th>\n",
       "      <td>4.951487</td>\n",
       "      <td>2.892813</td>\n",
       "    </tr>\n",
       "  </tbody>\n",
       "</table>\n",
       "<p>500 rows × 2 columns</p>\n",
       "</div>"
      ],
      "text/plain": [
       "     Feature_1  Feature_2\n",
       "0    -6.190063  -7.302015\n",
       "1     3.021747   1.940593\n",
       "2     5.953761   1.488191\n",
       "3    -2.744463   8.136177\n",
       "4     5.360607   1.728324\n",
       "..         ...        ...\n",
       "495  -6.040014  -6.325329\n",
       "496  -2.555459   9.218977\n",
       "497   4.438408   2.974583\n",
       "498  -7.193261  -6.250704\n",
       "499   4.951487   2.892813\n",
       "\n",
       "[500 rows x 2 columns]"
      ]
     },
     "execution_count": 9,
     "metadata": {},
     "output_type": "execute_result"
    }
   ],
   "source": [
    "df"
   ]
  },
  {
   "cell_type": "code",
   "execution_count": 17,
   "id": "612ffeea",
   "metadata": {},
   "outputs": [],
   "source": [
    "inertia=[]\n",
    "K_range=range(1,11)\n"
   ]
  },
  {
   "cell_type": "code",
   "execution_count": 18,
   "id": "012650e8",
   "metadata": {},
   "outputs": [],
   "source": [
    "for k in K_range:\n",
    "    kmeans=KMeans(n_clusters=k,random_state=42)\n",
    "    kmeans.fit(X_scaled)\n",
    "    inertia.append(kmeans.inertia_)\n"
   ]
  },
  {
   "cell_type": "code",
   "execution_count": 19,
   "id": "8c27cc60",
   "metadata": {},
   "outputs": [
    {
     "data": {
      "text/plain": [
       "[1000.0000000000001,\n",
       " 297.8954141051722,\n",
       " 11.575484723104982,\n",
       " 9.752067977356843,\n",
       " 8.25717527244628,\n",
       " 6.917577320416798,\n",
       " 6.334755391595288,\n",
       " 5.704177177901429,\n",
       " 5.060234133532076,\n",
       " 4.762361898130397]"
      ]
     },
     "execution_count": 19,
     "metadata": {},
     "output_type": "execute_result"
    }
   ],
   "source": [
    "inertia"
   ]
  },
  {
   "cell_type": "code",
   "execution_count": 25,
   "id": "fb101c34",
   "metadata": {},
   "outputs": [
    {
     "data": {
      "text/plain": [
       "[<matplotlib.lines.Line2D at 0x2428b2832c0>]"
      ]
     },
     "execution_count": 25,
     "metadata": {},
     "output_type": "execute_result"
    },
    {
     "data": {
      "image/png": "[encoded data removed]",
      "text/plain": [
       "<Figure size 640x480 with 1 Axes>"
      ]
     },
     "metadata": {},
     "output_type": "display_data"
    }
   ],
   "source": [
    "plt.plot(K_range,inertia,marker='o')"
   ]
  },
  {
   "cell_type": "code",
   "execution_count": 28,
   "id": "0d5b5dfb",
   "metadata": {},
   "outputs": [],
   "source": [
    "kmeans_final=KMeans(n_clusters=3,random_state=42)"
   ]
  },
  {
   "cell_type": "code",
   "execution_count": 29,
   "id": "8a58bbda",
   "metadata": {},
   "outputs": [],
   "source": [
    "cluster_labels=kmeans_final.fit_predict(X_scaled)"
   ]
  },
  {
   "cell_type": "code",
   "execution_count": 34,
   "id": "8ceb977a",
   "metadata": {},
   "outputs": [],
   "source": [
    "df['cluster']=cluster_labels"
   ]
  },
  {
   "cell_type": "code",
   "execution_count": 39,
   "id": "d59df4b3",
   "metadata": {},
   "outputs": [
    {
     "data": {
      "text/plain": [
       "<Axes: xlabel='Feature_1', ylabel='Feature_2'>"
      ]
     },
     "execution_count": 39,
     "metadata": {},
     "output_type": "execute_result"
    },
    {
     "data": {
      "image/png": "[encoded data removed]",
      "text/plain": [
       "<Figure size 640x480 with 1 Axes>"
      ]
     },
     "metadata": {},
     "output_type": "display_data"
    }
   ],
   "source": [
    "sns.scatterplot(x=df['Feature_1'],\n",
    "            y=df['Feature_2'],\n",
    "            hue=df['cluster'],\n",
    "            palette='viridis'\n",
    "                     )"
   ]
  }
 ],
 "metadata": {
  "kernelspec": {
   "display_name": "base",
   "language": "python",
   "name": "python3"
  },
  "language_info": {
   "codemirror_mode": {
    "name": "ipython",
    "version": 3
   },
   "file_extension": ".py",
   "mimetype": "text/x-python",
   "name": "python",
   "nbconvert_exporter": "python",
   "pygments_lexer": "ipython3",
   "version": "3.12.7"
  }
 },
 "nbformat": 4,
 "nbformat_minor": 5
}
